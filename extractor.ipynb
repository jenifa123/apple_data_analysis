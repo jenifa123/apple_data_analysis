{
 "cells": [
  {
   "cell_type": "code",
   "execution_count": 0,
   "metadata": {
    "application/vnd.databricks.v1+cell": {
     "cellMetadata": {
      "byteLimit": 2048000,
      "rowLimit": 10000
     },
     "inputWidgets": {},
     "nuid": "b600ee69-c27b-45af-986b-63bea19af404",
     "showTitle": false,
     "title": ""
    }
   },
   "outputs": [],
   "source": [
    "%run \"./reader_factory\""
   ]
  },
  {
   "cell_type": "code",
   "execution_count": 0,
   "metadata": {
    "application/vnd.databricks.v1+cell": {
     "cellMetadata": {
      "byteLimit": 2048000,
      "rowLimit": 10000
     },
     "inputWidgets": {},
     "nuid": "b0b3d4ae-a347-42d1-8bcb-b9a7b8981b63",
     "showTitle": false,
     "title": ""
    }
   },
   "outputs": [],
   "source": [
    "class Extractor:\n",
    "    \"\"\"\n",
    "    Abstract Class\n",
    "    \"\"\"\n",
    "    def __init__(self):\n",
    "        pass\n",
    "\n",
    "    def extract(self):\n",
    "        pass\n",
    "\n",
    "class AirpodsAfterIPhoneExtractor(Extractor):\n",
    "    def extract(self):\n",
    "        \"\"\"\n",
    "        Steps for extracting or reading data\n",
    "        \"\"\"\n",
    "        transactionInputDF = get_data_source(\n",
    "            data_type=\"csv\",\n",
    "            file_path=\"dbfs:/FileStore/tables/Transaction_Updated.csv\"\n",
    "        ).get_data_frame()\n",
    "        transactionInputDF.show()\n",
    "\n",
    "\n",
    "        customerInputDF = get_data_source(\n",
    "            data_type='delta',\n",
    "            file_path='default.customer_delta_table_perist'\n",
    "        ).get_data_frame()\n",
    "\n",
    "        productsInputDF = get_data_source(\n",
    "            data_type=\"csv\",\n",
    "            file_path=\"dbfs:/FileStore/tables/Products_Updated.csv\"\n",
    "        ).get_data_frame()\n",
    "\n",
    "        productsInputDF.show()\n",
    "\n",
    "\n",
    "        inputDf = {\n",
    "            \"transactionInputDF\": transactionInputDF,\n",
    "            \"customerInputDF\":customerInputDF,\n",
    "            \"productsInputDF\": productsInputDF\n",
    "        }\n",
    "\n",
    "        return inputDf"
   ]
  },
  {
   "cell_type": "code",
   "execution_count": 0,
   "metadata": {
    "application/vnd.databricks.v1+cell": {
     "cellMetadata": {
      "byteLimit": 2048000,
      "rowLimit": 10000
     },
     "inputWidgets": {},
     "nuid": "0819cc9d-8277-4881-9592-c616fcd718d7",
     "showTitle": false,
     "title": ""
    }
   },
   "outputs": [
    {
     "output_type": "stream",
     "name": "stdout",
     "output_type": "stream",
     "text": [
      "Out[7]: True"
     ]
    }
   ],
   "source": [
    "#dbutils.fs.mkdirs(\"/FileStore/tables/apple_analysis/output/airpodsAfterIphone\")"
   ]
  }
 ],
 "metadata": {
  "application/vnd.databricks.v1+notebook": {
   "dashboards": [],
   "environmentMetadata": null,
   "language": "python",
   "notebookMetadata": {
    "pythonIndentUnit": 4
   },
   "notebookName": "extractor",
   "widgets": {}
  }
 },
 "nbformat": 4,
 "nbformat_minor": 0
}
