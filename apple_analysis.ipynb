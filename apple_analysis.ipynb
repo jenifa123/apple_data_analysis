{
 "cells": [
  {
   "cell_type": "code",
   "execution_count": 0,
   "metadata": {
    "application/vnd.databricks.v1+cell": {
     "cellMetadata": {
      "byteLimit": 2048000,
      "rowLimit": 10000
     },
     "inputWidgets": {},
     "nuid": "25df857d-9437-43d5-85aa-69ae4178c816",
     "showTitle": false,
     "title": ""
    }
   },
   "outputs": [],
   "source": [
    "%run \"./transform\""
   ]
  },
  {
   "cell_type": "code",
   "execution_count": 0,
   "metadata": {
    "application/vnd.databricks.v1+cell": {
     "cellMetadata": {
      "byteLimit": 2048000,
      "rowLimit": 10000
     },
     "inputWidgets": {},
     "nuid": "50952e55-876b-492c-8f94-39c14cfd4c06",
     "showTitle": false,
     "title": ""
    }
   },
   "outputs": [],
   "source": [
    "%run \"./extractor\""
   ]
  },
  {
   "cell_type": "code",
   "execution_count": 0,
   "metadata": {
    "application/vnd.databricks.v1+cell": {
     "cellMetadata": {
      "byteLimit": 2048000,
      "rowLimit": 10000
     },
     "inputWidgets": {},
     "nuid": "5c653757-0de6-48bf-a174-a68107124a87",
     "showTitle": false,
     "title": ""
    }
   },
   "outputs": [],
   "source": [
    "%run \"./loader\""
   ]
  },
  {
   "cell_type": "code",
   "execution_count": 0,
   "metadata": {
    "application/vnd.databricks.v1+cell": {
     "cellMetadata": {
      "byteLimit": 2048000,
      "rowLimit": 10000
     },
     "inputWidgets": {},
     "nuid": "12fd4642-a9b2-4e9d-9210-4b7d8fce511f",
     "showTitle": false,
     "title": ""
    }
   },
   "outputs": [],
   "source": [
    "class FirstWorkFlow:\n",
    "\n",
    "    \"\"\"\n",
    "    ETL Pipeline to generate the data for all customers who have bought Airpods just after buying Iphone\n",
    "    \"\"\"\n",
    "    def __init__(self):\n",
    "        pass\n",
    "\n",
    "    def runner(self):\n",
    "        #Step 1: Extract all required data from different source\n",
    "        inputDf = AirpodsAfterIPhoneExtractor().extract()\n",
    "\n",
    "        #Step 2: Implement the transformation logic\n",
    "        #Customers who bought Airpods after Iphone\n",
    "        firstTransformedDF = AirpodsAfterIphone().transform(inputDf)\n",
    "\n",
    "        #Step 3: Load all required data to different link\n",
    "\n",
    "        AirpodsLoader(firstTransformedDF).sink()\n",
    "    "
   ]
  },
  {
   "cell_type": "code",
   "execution_count": 0,
   "metadata": {
    "application/vnd.databricks.v1+cell": {
     "cellMetadata": {
      "byteLimit": 2048000,
      "rowLimit": 10000
     },
     "inputWidgets": {},
     "nuid": "290c9b6d-9da5-46ed-a38e-df13449485ed",
     "showTitle": false,
     "title": ""
    }
   },
   "outputs": [],
   "source": [
    "class SecondWorkFlow:\n",
    "\n",
    "    \"\"\"\n",
    "    ETL Pipeline to generate the data for all customers who have bought only Iphone and Airpods\n",
    "    \"\"\"\n",
    "    def __init__(self):\n",
    "        pass\n",
    "\n",
    "    def runner(self):\n",
    "        #Step 1: Extract all required data from different source\n",
    "        inputDf = AirpodsAfterIPhoneExtractor().extract()\n",
    "\n",
    "        #Step 2: Implement the transformation logic\n",
    "        #Customers who bought Airpods and Iphone only\n",
    "        onlyAirPodsAndIphoneDF = onlyAirPodsAndIphone().transform(inputDf)\n",
    "\n",
    "        #Step 3: Load all required data to different link\n",
    "\n",
    "        AirpodsAndIphoneLoader(onlyAirPodsAndIphoneDF).sink()\n"
   ]
  },
  {
   "cell_type": "code",
   "execution_count": 0,
   "metadata": {
    "application/vnd.databricks.v1+cell": {
     "cellMetadata": {
      "byteLimit": 2048000,
      "rowLimit": 10000
     },
     "inputWidgets": {},
     "nuid": "a12cb3c2-d374-4cf5-a82f-d49dfcc4db11",
     "showTitle": false,
     "title": ""
    }
   },
   "outputs": [],
   "source": [
    "class ThirdWorkFlow():\n",
    "    \"\"\"\n",
    "    Find the avg time delay buying an iphone and buying airpods for each customer\n",
    "    \"\"\"\n",
    "\n",
    "    def __init__(self):\n",
    "        pass\n",
    "\n",
    "    def runner(self):\n",
    "        inputDf =  AirpodsAfterIPhoneExtractor().extract()\n",
    "        avgTimeDelayDF = AverageTimeDelay().transform(inputDf)\n",
    "        AverageTimeDelayLoader(avgTimeDelayDF).sink()\n"
   ]
  },
  {
   "cell_type": "code",
   "execution_count": 0,
   "metadata": {
    "application/vnd.databricks.v1+cell": {
     "cellMetadata": {
      "byteLimit": 2048000,
      "rowLimit": 10000
     },
     "inputWidgets": {},
     "nuid": "a632a969-4734-4085-9289-7777f31e5e14",
     "showTitle": false,
     "title": ""
    }
   },
   "outputs": [],
   "source": [
    "class FourthWorkFlow():\n",
    "    \"\"\"\n",
    "    Find the top 3 selling products in each category by total revenue\n",
    "    \"\"\"\n",
    "\n",
    "    def __init__(self):\n",
    "        pass\n",
    "\n",
    "    def runner(self):\n",
    "        inputDf =  AirpodsAfterIPhoneExtractor().extract()\n",
    "        topSellingProductsDF = TopSellingProducts().transform(inputDf)\n",
    "        TopSellingProductsLoader(topSellingProductsDF).sink()\n"
   ]
  },
  {
   "cell_type": "code",
   "execution_count": 0,
   "metadata": {
    "application/vnd.databricks.v1+cell": {
     "cellMetadata": {
      "byteLimit": 2048000,
      "rowLimit": 10000
     },
     "inputWidgets": {},
     "nuid": "57708d70-3060-458a-a7d1-6d59599f0874",
     "showTitle": false,
     "title": ""
    }
   },
   "outputs": [
    {
     "output_type": "stream",
     "name": "stdout",
     "output_type": "stream",
     "text": [
      "+--------------+-----------+------------+----------------+\n|transaction_id|customer_id|product_name|transaction_date|\n+--------------+-----------+------------+----------------+\n|            11|        105|      iPhone|      2022-02-01|\n|            12|        106|      iPhone|      2022-02-02|\n|            13|        107|     AirPods|      2022-02-03|\n|            14|        105|     AirPods|      2022-02-04|\n|            15|        108|      iPhone|      2022-02-05|\n|            16|        106|     MacBook|      2022-02-06|\n|            17|        107|      iPhone|      2022-02-07|\n|            18|        105|     MacBook|      2022-02-08|\n|            19|        108|     AirPods|      2022-02-09|\n|            20|        106|     AirPods|      2022-02-10|\n+--------------+-----------+------------+----------------+\n\n+----------+------------+----------+-----+\n|product_id|product_name|  category|price|\n+----------+------------+----------+-----+\n|         5|   iPhone SE|Smartphone|  450|\n|         6| AirPods Pro| Accessory|  250|\n|         7| MacBook Air|    Laptop| 1000|\n|         8|   iPad Mini|    Tablet|  400|\n+----------+------------+----------+-----+\n\nroot\n |-- product_id: string (nullable = true)\n |-- product_name: string (nullable = true)\n |-- category: string (nullable = true)\n |-- price: string (nullable = true)\n |-- product_name_only: string (nullable = true)\n |-- price_casted: integer (nullable = true)\n\n+----------+------------+----------+-----+-----------------+------------+\n|product_id|product_name|  category|price|product_name_only|price_casted|\n+----------+------------+----------+-----+-----------------+------------+\n|         5|   iPhone SE|Smartphone|  450|           iPhone|         450|\n|         6| AirPods Pro| Accessory|  250|          AirPods|         250|\n|         7| MacBook Air|    Laptop| 1000|          MacBook|        1000|\n|         8|   iPad Mini|    Tablet|  400|             iPad|         400|\n+----------+------------+----------+-----+-----------------+------------+\n\nJoined transaction and Product DF\n+--------------+-----------+------------+----------------+----------+------------+----------+-----+-----------------+------------+\n|transaction_id|customer_id|product_name|transaction_date|product_id|product_name|  category|price|product_name_only|price_casted|\n+--------------+-----------+------------+----------------+----------+------------+----------+-----+-----------------+------------+\n|            11|        105|      iPhone|      2022-02-01|         5|   iPhone SE|Smartphone|  450|           iPhone|         450|\n|            12|        106|      iPhone|      2022-02-02|         5|   iPhone SE|Smartphone|  450|           iPhone|         450|\n|            13|        107|     AirPods|      2022-02-03|         6| AirPods Pro| Accessory|  250|          AirPods|         250|\n|            14|        105|     AirPods|      2022-02-04|         6| AirPods Pro| Accessory|  250|          AirPods|         250|\n|            15|        108|      iPhone|      2022-02-05|         5|   iPhone SE|Smartphone|  450|           iPhone|         450|\n|            16|        106|     MacBook|      2022-02-06|         7| MacBook Air|    Laptop| 1000|          MacBook|        1000|\n|            17|        107|      iPhone|      2022-02-07|         5|   iPhone SE|Smartphone|  450|           iPhone|         450|\n|            18|        105|     MacBook|      2022-02-08|         7| MacBook Air|    Laptop| 1000|          MacBook|        1000|\n|            19|        108|     AirPods|      2022-02-09|         6| AirPods Pro| Accessory|  250|          AirPods|         250|\n|            20|        106|     AirPods|      2022-02-10|         6| AirPods Pro| Accessory|  250|          AirPods|         250|\n+--------------+-----------+------------+----------------+----------+------------+----------+-----+-----------------+------------+\n\nAggregated Data\n+----------+-----------------+-------------+\n|  category|product_name_only|total_revenue|\n+----------+-----------------+-------------+\n| Accessory|          AirPods|         1000|\n|    Laptop|          MacBook|         2000|\n|Smartphone|           iPhone|         1800|\n+----------+-----------------+-------------+\n\nTop 3 products in each category\n+----------+-----------------+-------------+----+\n|  category|product_name_only|total_revenue|rank|\n+----------+-----------------+-------------+----+\n| Accessory|          AirPods|         1000|   1|\n|    Laptop|          MacBook|         2000|   1|\n|Smartphone|           iPhone|         1800|   1|\n+----------+-----------------+-------------+----+\n\n"
     ]
    }
   ],
   "source": [
    "class WorkFlowRunner:\n",
    "    def __init__(self,name):\n",
    "        self.name = name\n",
    "\n",
    "\n",
    "    def runner(self):\n",
    "        if self.name == 'firstWorkFlow':\n",
    "            return FirstWorkFlow().runner()\n",
    "        elif self.name == 'secondWorkFlow':\n",
    "            return SecondWorkFlow().runner()\n",
    "        elif self.name == 'thirdWorkFlow':\n",
    "            return ThirdWorkFlow().runner()\n",
    "        elif self.name == 'fourthWorkFlow':\n",
    "            return FourthWorkFlow().runner()\n",
    "\n",
    "name = \"fourthWorkFlow\"\n",
    "\n",
    "workFlowrunner = WorkFlowRunner(name).runner()"
   ]
  },
  {
   "cell_type": "code",
   "execution_count": 0,
   "metadata": {
    "application/vnd.databricks.v1+cell": {
     "cellMetadata": {
      "byteLimit": 2048000,
      "rowLimit": 10000
     },
     "inputWidgets": {},
     "nuid": "d4059bd4-b7a5-42c4-80f9-ac6e7344b258",
     "showTitle": false,
     "title": ""
    }
   },
   "outputs": [
    {
     "output_type": "stream",
     "name": "stdout",
     "output_type": "stream",
     "text": [
      "+--------------+-----------+------------+----------------+\n|transaction_id|customer_id|product_name|transaction_date|\n+--------------+-----------+------------+----------------+\n|            11|        105|      iPhone|      2022-02-01|\n|            12|        106|      iPhone|      2022-02-02|\n|            13|        107|     AirPods|      2022-02-03|\n|            14|        105|     AirPods|      2022-02-04|\n|            15|        108|      iPhone|      2022-02-05|\n|            16|        106|     MacBook|      2022-02-06|\n|            17|        107|      iPhone|      2022-02-07|\n|            18|        105|     MacBook|      2022-02-08|\n|            19|        108|     AirPods|      2022-02-09|\n|            20|        106|     AirPods|      2022-02-10|\n+--------------+-----------+------------+----------------+\n\n+----------+------------+----------+-----+\n|product_id|product_name|  category|price|\n+----------+------------+----------+-----+\n|         5|   iPhone SE|Smartphone|  450|\n|         6| AirPods Pro| Accessory|  250|\n|         7| MacBook Air|    Laptop| 1000|\n|         8|   iPad Mini|    Tablet|  400|\n+----------+------------+----------+-----+\n\n+-----------+-------------+----------+--------+\n|customer_id|customer_name| join_date|location|\n+-----------+-------------+----------+--------+\n|        105|          Eva|2022-01-01|    Ohio|\n|        106|        Frank|2022-02-01|  Nevada|\n|        107|        Grace|2022-03-01|Colorado|\n|        108|        Henry|2022-04-01|    Utah|\n+-----------+-------------+----------+--------+\n\n"
     ]
    }
   ],
   "source": [
    "from pyspark.sql import SparkSession\n",
    "\n",
    "spark = SparkSession.builder.appName(\"test\").getOrCreate()\n",
    "\n",
    "input_trans_df  = spark.read.format(\"csv\").option(\"header\",True).load(\"dbfs:/FileStore/tables/Transaction_Updated.csv\")\n",
    "\n",
    "input_trans_df.show()\n",
    "\n",
    "\n",
    "input_prod_df  = spark.read.format(\"csv\").option(\"header\",True).load(\"dbfs:/FileStore/tables/Products_Updated.csv\")\n",
    "\n",
    "input_prod_df.show()\n",
    "\n",
    "input_cust_df  = spark.read.format(\"csv\").option(\"header\",True).load(\"dbfs:/FileStore/tables/Customer_Updated.csv\")\n",
    "\n",
    "input_cust_df.show()"
   ]
  }
 ],
 "metadata": {
  "application/vnd.databricks.v1+notebook": {
   "dashboards": [],
   "environmentMetadata": null,
   "language": "python",
   "notebookMetadata": {
    "pythonIndentUnit": 4
   },
   "notebookName": "apple_analysis_big_data_show",
   "widgets": {}
  }
 },
 "nbformat": 4,
 "nbformat_minor": 0
}
