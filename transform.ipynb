{
 "cells": [
  {
   "cell_type": "code",
   "execution_count": 0,
   "metadata": {
    "application/vnd.databricks.v1+cell": {
     "cellMetadata": {
      "byteLimit": 2048000,
      "rowLimit": 10000
     },
     "inputWidgets": {},
     "nuid": "c2356dd4-d96c-470d-811c-543f408045ec",
     "showTitle": false,
     "title": ""
    }
   },
   "outputs": [],
   "source": [
    "from pyspark.sql.window import Window\n",
    "from pyspark.sql.functions import lead,col,broadcast,collect_set,array_contains,size,datediff,avg,row_number\n",
    "from pyspark.sql.types import IntegerType\n",
    "from pyspark.sql import functions as F\n",
    "\n",
    "class Transformer:\n",
    "\n",
    "    def __init__(self):\n",
    "        pass\n",
    "\n",
    "    def transform(self,inputDf):\n",
    "        pass\n",
    "\n",
    "\n",
    "class AirpodsAfterIphone(Transformer):\n",
    "    def transform(self,inputDF):\n",
    "        #Customers who bought Airpods after Iphone\n",
    "        transactionInputDF = inputDF.get(\"transactionInputDF\")\n",
    "\n",
    "        transactionInputDF.show()\n",
    "\n",
    "        windowspec = Window.partitionBy(\"customer_id\").orderBy(\"transaction_date\")\n",
    "\n",
    "        transform_df = transactionInputDF.withColumn(\"next_product_name\",\n",
    "                                                     lead(\"product_name\").over(windowspec))\n",
    "        print(\"Airpods after buying iphone\")\n",
    "        transform_df.orderBy(\"customer_id\",\"transaction_date\",\"product_name\").show()\n",
    "\n",
    "        filtered_df = transform_df.filter((col(\"product_name\")==\"iPhone\") & (col(\"next_product_name\")==\"AirPods\"))\n",
    "\n",
    "        filtered_df.orderBy(\"customer_id\",\"transaction_date\",\"product_name\").show()\n",
    "\n",
    "        customerInputDF = inputDF.get(\"customerInputDF\")\n",
    "\n",
    "        customerInputDF.show()\n",
    "\n",
    "        join_df = customerInputDF.join(broadcast(filtered_df),\"customer_id\")\n",
    "\n",
    "        print(\"Joined DF\")\n",
    "\n",
    "        join_df.select(\"customer_id\",\"customer_name\",\"location\").show()\n",
    "\n",
    "        return join_df.select(\"customer_id\",\"customer_name\",\"location\")\n",
    "\n",
    "\n",
    "\n",
    " \n",
    "class onlyAirPodsAndIphone(Transformer):      \n",
    "    def transform(self,inputDF):\n",
    "        \"\"\"\n",
    "         Customer who bought only IPhone and Airpods only\n",
    "        \"\"\" \n",
    "        transactionInputDF = inputDF.get(\"transactionInputDF\")\n",
    "\n",
    "        transactionInputDF.show()\n",
    "\n",
    "        groupedDF = transactionInputDF.groupBy(\"customer_id\").agg(collect_set(\"product_name\").alias(\"products\"))\n",
    "\n",
    "        groupedDF.show(truncate=False)\n",
    "\n",
    "        filtered_df = groupedDF.filter((array_contains(col(\"products\"),\"iPhone\")) \n",
    "                                       & (array_contains(col(\"products\"),\"AirPods\")) \n",
    "                                       & (size(col(\"products\"))==2))\n",
    "        filtered_df.show()\n",
    "        customerInputDF = inputDF.get(\"customerInputDF\")\n",
    "\n",
    "        customerInputDF.show()\n",
    "\n",
    "        join_df = customerInputDF.join(broadcast(filtered_df),\"customer_id\")\n",
    "\n",
    "        print(\"Joined DF in second workflow\")\n",
    "\n",
    "        join_df.select(\"customer_id\",\"customer_name\",\"location\",\"products\").show()\n",
    "\n",
    "        return join_df.select(\"customer_id\",\"customer_name\",\"location\",\"products\")"
   ]
  },
  {
   "cell_type": "code",
   "execution_count": 0,
   "metadata": {
    "application/vnd.databricks.v1+cell": {
     "cellMetadata": {
      "byteLimit": 2048000,
      "rowLimit": 10000
     },
     "inputWidgets": {},
     "nuid": "68fffb4e-66ae-4084-95ab-fbd4da796a8c",
     "showTitle": false,
     "title": ""
    }
   },
   "outputs": [],
   "source": [
    "class AverageTimeDelay(Transformer):\n",
    "    def transform(self,inputDF):\n",
    "        transactionInputDF = inputDF.get(\"transactionInputDF\")\n",
    "\n",
    "        windowSpec = Window.partitionBy(\"customer_id\").orderBy(\"transaction_date\")\n",
    "\n",
    "        delayDF = transactionInputDF.withColumn(\n",
    "            \"next_purchased_product\", lead(\"product_name\").over(windowSpec)\n",
    "            ).withColumn(\n",
    "                \"time_delay\", datediff(lead(\"transaction_date\").over(windowSpec),col(\"transaction_date\"))\n",
    "            ).filter(\n",
    "                ((col(\"product_name\") == \"iPhone\") & (col(\"next_purchased_product\")== \"AirPods\"))\n",
    "            )\n",
    "        \n",
    "        averageDelayDF = delayDF.groupBy(\"customer_id\").agg(\n",
    "            avg(\"time_delay\").alias(\"average_time_delay\")\n",
    "        )\n",
    "\n",
    "        averageDelayDF.show()\n",
    "        return averageDelayDF.select(\"customer_id\",\"average_time_delay\")\n"
   ]
  },
  {
   "cell_type": "code",
   "execution_count": 0,
   "metadata": {
    "application/vnd.databricks.v1+cell": {
     "cellMetadata": {
      "byteLimit": 2048000,
      "rowLimit": 10000
     },
     "inputWidgets": {},
     "nuid": "ad19f035-a6b9-4503-b1a4-e4049ed0c9e8",
     "showTitle": false,
     "title": ""
    }
   },
   "outputs": [],
   "source": [
    "class TopSellingProducts(Transformer):\n",
    "    def transform(self,inputDF):\n",
    "\n",
    "        transactionInputDF = inputDF.get(\"transactionInputDF\")\n",
    "        productsInputDF = inputDF.get(\"productsInputDF\")\n",
    "\n",
    "        productsInputDF = productsInputDF.withColumn(\"product_name_only\",F.split(F.col(\"product_name\"),\" \").getItem(0))\n",
    "\n",
    "        productsInputDF = productsInputDF.withColumn(\"price_casted\",F.col(\"price\").cast(\"int\"))\n",
    "\n",
    "        productsInputDF = productsInputDF.na.fill(value=0,subset=[\"price_casted\"])\n",
    "        productsInputDF.printSchema()\n",
    "        productsInputDF.show()\n",
    "        joinedDF = transactionInputDF.join(productsInputDF,productsInputDF.product_name_only==transactionInputDF.product_name)\n",
    "\n",
    "        print(\"Joined transaction and Product DF\")\n",
    "        joinedDF.show()\n",
    "\n",
    "\n",
    "        topProductsDF = joinedDF.groupBy(\"category\",\"product_name_only\").agg(\n",
    "            F.sum(\"price_casted\").alias(\"total_revenue\")\n",
    "        ).orderBy(\"category\",col(\"total_revenue\"))\n",
    "\n",
    "        print(\"Aggregated Data\")\n",
    "        topProductsDF.show()\n",
    "        windowSpec = Window.partitionBy(\"category\").orderBy(col(\"total_revenue\"))\n",
    "\n",
    "        top3DF = topProductsDF.withColumn(\n",
    "            \"rank\",row_number().over(windowSpec)\n",
    "        ).filter(col(\"rank\")<=3)\n",
    "\n",
    "        print(\"Top 3 products in each category\")\n",
    "        top3DF.show()\n",
    "\n",
    "        return top3DF.select(\"category\",\"total_revenue\",\"product_name_only\")\n"
   ]
  }
 ],
 "metadata": {
  "application/vnd.databricks.v1+notebook": {
   "dashboards": [],
   "environmentMetadata": null,
   "language": "python",
   "notebookMetadata": {
    "pythonIndentUnit": 4
   },
   "notebookName": "transform",
   "widgets": {}
  }
 },
 "nbformat": 4,
 "nbformat_minor": 0
}
