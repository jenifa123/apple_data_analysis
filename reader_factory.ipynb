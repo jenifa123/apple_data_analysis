{
 "cells": [
  {
   "cell_type": "code",
   "execution_count": 0,
   "metadata": {
    "application/vnd.databricks.v1+cell": {
     "cellMetadata": {
      "byteLimit": 2048000,
      "rowLimit": 10000
     },
     "inputWidgets": {},
     "nuid": "3a2fb168-8f5d-4fa9-82dc-be9595debb0b",
     "showTitle": false,
     "title": ""
    }
   },
   "outputs": [],
   "source": [
    "class DataSource:\n",
    "    \"\"\"\n",
    "    Abstract Class\n",
    "    \"\"\"\n",
    "\n",
    "    def __init__(self,path):\n",
    "        self.path = path\n",
    "    \n",
    "    def get_data_frame(self):\n",
    "        \"\"\"\n",
    "        Abstract Method, Function will be defined in sub classes\n",
    "        \"\"\"\n",
    "\n",
    "        raise ValueErorr(\"Not Implemented\")\n",
    "\n",
    "\n",
    "class CSVDataSource(DataSource):\n",
    "    def get_data_frame(self):\n",
    "\n",
    "        return (\n",
    "            spark.read.format(\"csv\").option(\"header\",True).load(self.path)\n",
    "        )\n",
    "\n",
    "\n",
    "class ParquetDataSource(DataSource):\n",
    "    def get_data_frame(self):\n",
    "\n",
    "        return (\n",
    "            spark.read.format(\"parquet\").load(self.path)\n",
    "        )\n",
    "\n",
    "\n",
    "class AvroDataSource(DataSource):\n",
    "    def get_data_frame(self):\n",
    "\n",
    "        return (\n",
    "            spark.read.format(\"avro\").load(self.path)\n",
    "        )\n",
    "\n",
    "class ORCDataSource(DataSource):\n",
    "    def get_data_frame(self):\n",
    "\n",
    "        return (\n",
    "            spark.read.format(\"orc\").load(self.path)\n",
    "        )\n",
    "\n",
    "class DeltaDataSource(DataSource):\n",
    "    def get_data_frame(self):\n",
    "        table_name = self.path\n",
    "        return (\n",
    "            spark.read.table(table_name)\n",
    "        )\n",
    "\n",
    "\n",
    "def get_data_source(data_type,file_path):\n",
    "\n",
    "    if data_type == 'csv':\n",
    "        return CSVDataSource(file_path)\n",
    "    elif data_type == 'parquet':\n",
    "        return ParquetDataSource(file_path)\n",
    "    elif data_type == 'delta':\n",
    "        return DeltaDataSource(file_path)\n",
    "    elif data_type == 'orc':\n",
    "        return ORCDataSource(file_path)\n",
    "    else:\n",
    "        raise ValueError(f\"Not Implemented for data type :{data_type}\")"
   ]
  }
 ],
 "metadata": {
  "application/vnd.databricks.v1+notebook": {
   "dashboards": [],
   "environmentMetadata": null,
   "language": "python",
   "notebookMetadata": {
    "pythonIndentUnit": 4
   },
   "notebookName": "reader_factory",
   "widgets": {}
  }
 },
 "nbformat": 4,
 "nbformat_minor": 0
}
