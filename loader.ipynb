{
 "cells": [
  {
   "cell_type": "code",
   "execution_count": 0,
   "metadata": {
    "application/vnd.databricks.v1+cell": {
     "cellMetadata": {
      "byteLimit": 2048000,
      "rowLimit": 10000
     },
     "inputWidgets": {},
     "nuid": "31212879-5315-438c-8f58-e484d0e2fae7",
     "showTitle": false,
     "title": ""
    }
   },
   "outputs": [],
   "source": [
    "%run \"./loader_factory\""
   ]
  },
  {
   "cell_type": "code",
   "execution_count": 0,
   "metadata": {
    "application/vnd.databricks.v1+cell": {
     "cellMetadata": {
      "byteLimit": 2048000,
      "rowLimit": 10000
     },
     "inputWidgets": {},
     "nuid": "06d47eac-7007-43b4-9f47-cf96f60bae6b",
     "showTitle": false,
     "title": ""
    }
   },
   "outputs": [],
   "source": [
    "class Loader:\n",
    "\n",
    "    def __init__(self,transformedDF):\n",
    "        self.transformedDF = transformedDF\n",
    "        pass\n",
    "\n",
    "    def load(self):\n",
    "        pass\n",
    "\n",
    "class AirpodsLoader(Loader):\n",
    "\n",
    "    def sink(self):\n",
    "        get_sink_source(sink_type=\"dbfs\",df=self.transformedDF,\n",
    "                        path=\"dbfs:/FileStore/tables/apple_analysis/output/airpodsAfterIphone\",\n",
    "                        method=\"overwrite\").load_data_frame()\n",
    "\n",
    "class AirpodsAndIphoneLoader(Loader):\n",
    "\n",
    "    def sink(self):\n",
    "        params= {\n",
    "            \"partitionByColumns\":[\"location\"]\n",
    "        }\n",
    "        get_sink_source(sink_type=\"dbfs_with_partition\",df=self.transformedDF,\n",
    "                        path=\"dbfs:/FileStore/tables/apple_analysis/output/onlyAirpodsAndIphone\",\n",
    "                        method=\"overwrite\",params=params).load_data_frame()\n",
    "        \n",
    "        get_sink_source(sink_type=\"delta\",df=self.transformedDF,\n",
    "                        path=\"default.onlyAirPodsAndIphone\",\n",
    "                        method=\"overwrite\").load_data_frame()\n",
    "        \n",
    "\n",
    "        "
   ]
  },
  {
   "cell_type": "code",
   "execution_count": 0,
   "metadata": {
    "application/vnd.databricks.v1+cell": {
     "cellMetadata": {
      "byteLimit": 2048000,
      "rowLimit": 10000
     },
     "inputWidgets": {},
     "nuid": "427dcde8-f7dd-4ab0-af95-7c14781b5d68",
     "showTitle": false,
     "title": ""
    }
   },
   "outputs": [],
   "source": [
    "class AverageTimeDelayLoader(Loader):\n",
    "\n",
    "    def sink(self):\n",
    "        get_sink_source(\n",
    "           sink_type=\"delta\",df=self.transformedDF,\n",
    "                        path=\"default.averageTimeDelay\",\n",
    "                        method=\"overwrite\").load_data_frame()"
   ]
  },
  {
   "cell_type": "code",
   "execution_count": 0,
   "metadata": {
    "application/vnd.databricks.v1+cell": {
     "cellMetadata": {
      "byteLimit": 2048000,
      "rowLimit": 10000
     },
     "inputWidgets": {},
     "nuid": "4e06d609-ec6d-4d7a-85f4-8889e5125f7b",
     "showTitle": false,
     "title": ""
    }
   },
   "outputs": [],
   "source": [
    "class TopSellingProductsLoader(Loader):\n",
    "    def sink(self):\n",
    "        get_sink_source(\n",
    "           sink_type=\"dbfs\",\n",
    "           df=self.transformedDF,\n",
    "           path=\"dbfs:/FileStore/tables/apple_analysis/output/topSellingProducts\",\n",
    "           method=\"overwrite\").load_data_frame()"
   ]
  }
 ],
 "metadata": {
  "application/vnd.databricks.v1+notebook": {
   "dashboards": [],
   "environmentMetadata": null,
   "language": "python",
   "notebookMetadata": {
    "pythonIndentUnit": 4
   },
   "notebookName": "loader",
   "widgets": {}
  }
 },
 "nbformat": 4,
 "nbformat_minor": 0
}
